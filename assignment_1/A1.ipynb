{
 "cells": [
  {
   "cell_type": "code",
   "execution_count": 1,
   "id": "5f740780",
   "metadata": {},
   "outputs": [],
   "source": [
    "import numpy as np\n",
    "import pandas as pd\n",
    "from pandas import Series, DataFrame\n",
    "import matplotlib.pyplot as plt\n",
    "import warnings"
   ]
  },
  {
   "cell_type": "markdown",
   "id": "3a4f40f0",
   "metadata": {},
   "source": [
    "# Q 1.1.1."
   ]
  },
  {
   "cell_type": "code",
   "execution_count": 2,
   "id": "65288136",
   "metadata": {},
   "outputs": [
    {
     "data": {
      "text/plain": [
       "('Google', 'Facebook', 'Amazon', 'Netflix', 'AirBnB', 'Instagram')"
      ]
     },
     "execution_count": 2,
     "metadata": {},
     "output_type": "execute_result"
    }
   ],
   "source": [
    "apps_tuple = (\"Google\", \"Facebook\", \"Amazon\", \"Netflix\", \"AirBnB\", \"Instagram\")\n",
    "apps_tuple"
   ]
  },
  {
   "cell_type": "markdown",
   "id": "73c4db79",
   "metadata": {},
   "source": [
    "# Q1.1.2."
   ]
  },
  {
   "cell_type": "code",
   "execution_count": 3,
   "id": "7b1c5e53",
   "metadata": {},
   "outputs": [
    {
     "name": "stdout",
     "output_type": "stream",
     "text": [
      "The second element is: Facebook\n",
      "The last element is: Instagram\n"
     ]
    }
   ],
   "source": [
    "print(\"The second element is:\", apps_tuple[1])\n",
    "print(\"The last element is:\", apps_tuple[-1])"
   ]
  },
  {
   "cell_type": "markdown",
   "id": "0bfde83b",
   "metadata": {},
   "source": [
    "# Q1.1.3."
   ]
  },
  {
   "cell_type": "code",
   "execution_count": 4,
   "id": "56ebe809",
   "metadata": {},
   "outputs": [
    {
     "data": {
      "text/plain": [
       "('Facebook', 'Amazon', 'Netflix')"
      ]
     },
     "execution_count": 4,
     "metadata": {},
     "output_type": "execute_result"
    }
   ],
   "source": [
    "slice_1 = apps_tuple[1:-2]\n",
    "slice_1 "
   ]
  },
  {
   "cell_type": "markdown",
   "id": "6ef20091",
   "metadata": {},
   "source": [
    "# Q1.1.4."
   ]
  },
  {
   "cell_type": "code",
   "execution_count": 5,
   "id": "099136b8",
   "metadata": {},
   "outputs": [
    {
     "ename": "AttributeError",
     "evalue": "'tuple' object has no attribute 'append'",
     "output_type": "error",
     "traceback": [
      "\u001b[0;31m---------------------------------------------------------------------------\u001b[0m",
      "\u001b[0;31mAttributeError\u001b[0m                            Traceback (most recent call last)",
      "Input \u001b[0;32mIn [5]\u001b[0m, in \u001b[0;36m<cell line: 1>\u001b[0;34m()\u001b[0m\n\u001b[0;32m----> 1\u001b[0m \u001b[43mapps_tuple\u001b[49m\u001b[38;5;241;43m.\u001b[39;49m\u001b[43mappend\u001b[49m(\u001b[38;5;124m\"\u001b[39m\u001b[38;5;124mMessenger\u001b[39m\u001b[38;5;124m\"\u001b[39m)\n",
      "\u001b[0;31mAttributeError\u001b[0m: 'tuple' object has no attribute 'append'"
     ]
    }
   ],
   "source": [
    "apps_tuple.append(\"Messenger\")"
   ]
  },
  {
   "cell_type": "markdown",
   "id": "6b934ef1",
   "metadata": {},
   "source": [
    "I found there would be AttibuteError using append on tuple, since append is a method used for list, and tuple is immutable, even though the element stored in a tuple may be mutable themselves."
   ]
  },
  {
   "cell_type": "markdown",
   "id": "b9a9925c",
   "metadata": {},
   "source": [
    "# Q1.2.1."
   ]
  },
  {
   "cell_type": "code",
   "execution_count": 6,
   "id": "b0889f66",
   "metadata": {},
   "outputs": [
    {
     "data": {
      "text/plain": [
       "['Google', 'Facebook', 'Amazon', 'Netflix', 'AirBnB', 'Instagram']"
      ]
     },
     "execution_count": 6,
     "metadata": {},
     "output_type": "execute_result"
    }
   ],
   "source": [
    "apps_list = list(apps_tuple)\n",
    "apps_list"
   ]
  },
  {
   "cell_type": "markdown",
   "id": "e9db3533",
   "metadata": {},
   "source": [
    "# Q1.2.2."
   ]
  },
  {
   "cell_type": "code",
   "execution_count": 7,
   "id": "07358bbb",
   "metadata": {},
   "outputs": [
    {
     "data": {
      "text/plain": [
       "['Google', 'Facebook', 'Amazon']"
      ]
     },
     "execution_count": 7,
     "metadata": {},
     "output_type": "execute_result"
    }
   ],
   "source": [
    "apps_list[:3]"
   ]
  },
  {
   "cell_type": "markdown",
   "id": "be0c8a10",
   "metadata": {},
   "source": [
    "# Q1.2.3."
   ]
  },
  {
   "cell_type": "code",
   "execution_count": 8,
   "id": "d8cfe077",
   "metadata": {},
   "outputs": [
    {
     "data": {
      "text/plain": [
       "['Netflix', 'AirBnB', 'Instagram']"
      ]
     },
     "execution_count": 8,
     "metadata": {},
     "output_type": "execute_result"
    }
   ],
   "source": [
    "apps_list[3:]"
   ]
  },
  {
   "cell_type": "markdown",
   "id": "15543721",
   "metadata": {},
   "source": [
    "# Q1.2.4"
   ]
  },
  {
   "cell_type": "code",
   "execution_count": 9,
   "id": "048cdc82",
   "metadata": {},
   "outputs": [
    {
     "data": {
      "text/plain": [
       "['Google',\n",
       " 'Youtube',\n",
       " 'Facebook',\n",
       " 'Amazon',\n",
       " 'Netflix',\n",
       " 'AirBnB',\n",
       " 'Instagram',\n",
       " 'Messenger']"
      ]
     },
     "execution_count": 9,
     "metadata": {},
     "output_type": "execute_result"
    }
   ],
   "source": [
    "apps_list.append(\"Messenger\")\n",
    "apps_list.insert(1,\"Youtube\")\n",
    "apps_list"
   ]
  },
  {
   "cell_type": "markdown",
   "id": "a5a28df7",
   "metadata": {},
   "source": [
    "# Q1.2.5"
   ]
  },
  {
   "cell_type": "code",
   "execution_count": 10,
   "id": "3a6179a8",
   "metadata": {},
   "outputs": [
    {
     "data": {
      "text/plain": [
       "['Google', 'Youtube', 'Amazon', 'Netflix', 'AirBnB', 'Instagram', 'Messenger']"
      ]
     },
     "execution_count": 10,
     "metadata": {},
     "output_type": "execute_result"
    }
   ],
   "source": [
    "apps_list.remove(\"Facebook\")\n",
    "apps_list"
   ]
  },
  {
   "cell_type": "code",
   "execution_count": 11,
   "id": "f9d06c4d",
   "metadata": {},
   "outputs": [
    {
     "name": "stdout",
     "output_type": "stream",
     "text": [
      "’Facebook’ has been removed from the list? True\n"
     ]
    }
   ],
   "source": [
    "print(\"’Facebook’ has been removed from the list?\", \"Facebook\" not in apps_list)"
   ]
  },
  {
   "cell_type": "markdown",
   "id": "0f5b9e79",
   "metadata": {},
   "source": [
    "# Q1.2.6"
   ]
  },
  {
   "cell_type": "code",
   "execution_count": 12,
   "id": "e39572aa",
   "metadata": {},
   "outputs": [
    {
     "data": {
      "text/plain": [
       "['Google',\n",
       " 'Youtube',\n",
       " 'Amazon',\n",
       " 'Netflix',\n",
       " 'AirBnB',\n",
       " 'Instagram',\n",
       " 'Messenger',\n",
       " 'Linkedin',\n",
       " 'Twitter']"
      ]
     },
     "execution_count": 12,
     "metadata": {},
     "output_type": "execute_result"
    }
   ],
   "source": [
    "apps_list.extend(['Linkedin', 'Twitter'])\n",
    "apps_list"
   ]
  },
  {
   "cell_type": "markdown",
   "id": "4bc462ce",
   "metadata": {},
   "source": [
    "# Q1.3.1"
   ]
  },
  {
   "cell_type": "code",
   "execution_count": 13,
   "id": "9ce0052f",
   "metadata": {},
   "outputs": [
    {
     "data": {
      "text/plain": [
       "{'app0': 'Google',\n",
       " 'app1': 'Facebook',\n",
       " 'app2': 'Amazon',\n",
       " 'app3': 'Netflix',\n",
       " 'app4': 'AirBnB',\n",
       " 'app5': 'Instagram'}"
      ]
     },
     "execution_count": 13,
     "metadata": {},
     "output_type": "execute_result"
    }
   ],
   "source": [
    "apps_dict= dict(zip(range(6),apps_tuple))\n",
    "apps_dict = {'app' + str(key): val for key, val in apps_dict.items()}\n",
    "apps_dict"
   ]
  },
  {
   "cell_type": "markdown",
   "id": "81bbf157",
   "metadata": {},
   "source": [
    "# Q1.3.2"
   ]
  },
  {
   "cell_type": "code",
   "execution_count": 14,
   "id": "4264de87",
   "metadata": {},
   "outputs": [
    {
     "data": {
      "text/plain": [
       "'Facebook'"
      ]
     },
     "execution_count": 14,
     "metadata": {},
     "output_type": "execute_result"
    }
   ],
   "source": [
    "apps_dict['app1']"
   ]
  },
  {
   "cell_type": "code",
   "execution_count": 15,
   "id": "4671b759",
   "metadata": {},
   "outputs": [
    {
     "data": {
      "text/plain": [
       "{'app0': 'Google',\n",
       " 'app1': 'Youtube',\n",
       " 'app2': 'Amazon',\n",
       " 'app3': 'Netflix',\n",
       " 'app4': 'AirBnB',\n",
       " 'app5': 'Instagram'}"
      ]
     },
     "execution_count": 15,
     "metadata": {},
     "output_type": "execute_result"
    }
   ],
   "source": [
    "apps_dict['app1'] = 'Youtube'\n",
    "apps_dict"
   ]
  },
  {
   "cell_type": "markdown",
   "id": "404e66dd",
   "metadata": {},
   "source": [
    "# Q1.3.3"
   ]
  },
  {
   "cell_type": "code",
   "execution_count": 16,
   "id": "35d4de8b",
   "metadata": {},
   "outputs": [
    {
     "data": {
      "text/plain": [
       "{'app0': 'Google',\n",
       " 'app1': 'Youtube',\n",
       " 'app2': 'Amazon',\n",
       " 'app3': 'Netflix',\n",
       " 'app4': 'AirBnB',\n",
       " 'app5': 'Instagram',\n",
       " 'app6': 'Messenger'}"
      ]
     },
     "execution_count": 16,
     "metadata": {},
     "output_type": "execute_result"
    }
   ],
   "source": [
    "apps_dict['app6'] = 'Messenger'\n",
    "apps_dict"
   ]
  },
  {
   "cell_type": "markdown",
   "id": "deda550a",
   "metadata": {},
   "source": [
    "# Q1.3.4"
   ]
  },
  {
   "cell_type": "code",
   "execution_count": 17,
   "id": "2d3da721",
   "metadata": {},
   "outputs": [
    {
     "data": {
      "text/plain": [
       "{'app0': 'Google',\n",
       " 'app1': 'Messenger',\n",
       " 'app2': 'Amazon',\n",
       " 'app3': 'Netflix',\n",
       " 'app4': 'AirBnB',\n",
       " 'app5': 'Instagram',\n",
       " 'app6': 'Messenger'}"
      ]
     },
     "execution_count": 17,
     "metadata": {},
     "output_type": "execute_result"
    }
   ],
   "source": [
    "apps_dict['app1'] = 'Messenger'\n",
    "apps_dict"
   ]
  },
  {
   "cell_type": "markdown",
   "id": "6ba57672",
   "metadata": {},
   "source": [
    "The syntax changes the value of 'app1' to 'Messenger' instead of 'Facebook'."
   ]
  },
  {
   "cell_type": "markdown",
   "id": "9b521dbe",
   "metadata": {},
   "source": [
    "# Q1.3.5"
   ]
  },
  {
   "cell_type": "code",
   "execution_count": 18,
   "id": "da899872",
   "metadata": {},
   "outputs": [
    {
     "data": {
      "text/plain": [
       "{'app0': 'Google',\n",
       " 'app1': 'Messenger',\n",
       " 'app2': 'Amazon',\n",
       " 'app3': 'Netflix',\n",
       " 'app4': 'AirBnB',\n",
       " 'app5': 'Instagram',\n",
       " 'app6': 'Messenger',\n",
       " 'App1': 'Facebook'}"
      ]
     },
     "execution_count": 18,
     "metadata": {},
     "output_type": "execute_result"
    }
   ],
   "source": [
    "apps_dict['App1']='Facebook'\n",
    "apps_dict"
   ]
  },
  {
   "cell_type": "markdown",
   "id": "92823ca7",
   "metadata": {},
   "source": [
    "The syntax updates the dictionary with a new pair of key and value: 'App1' with the value 'Facebook', since the two keys 'app1' and 'App1' are different as strings. "
   ]
  },
  {
   "cell_type": "markdown",
   "id": "1c77aaeb",
   "metadata": {},
   "source": [
    "# Q1.3.6"
   ]
  },
  {
   "cell_type": "code",
   "execution_count": 19,
   "id": "9447cc6d",
   "metadata": {},
   "outputs": [
    {
     "data": {
      "text/plain": [
       "{'app0': 'Google',\n",
       " 'app1': 'Messenger',\n",
       " 'app2': 'Amazon',\n",
       " 'app3': 'Netflix',\n",
       " 'app4': 'AirBnB',\n",
       " 'app5': 'Instagram',\n",
       " 'app6': 'Messenger'}"
      ]
     },
     "execution_count": 19,
     "metadata": {},
     "output_type": "execute_result"
    }
   ],
   "source": [
    "del apps_dict['App1']\n",
    "apps_dict"
   ]
  },
  {
   "cell_type": "markdown",
   "id": "36107a78",
   "metadata": {},
   "source": [
    "The syntax delates the key named App1 and its value from the dictionary,but app1 and its value was not affected."
   ]
  },
  {
   "cell_type": "markdown",
   "id": "d66b1c78",
   "metadata": {},
   "source": [
    "# Q 1.4.1"
   ]
  },
  {
   "cell_type": "code",
   "execution_count": 20,
   "id": "a93daf8e",
   "metadata": {},
   "outputs": [
    {
     "data": {
      "text/plain": [
       "[7, 12, 9, 18, 15]"
      ]
     },
     "execution_count": 20,
     "metadata": {},
     "output_type": "execute_result"
    }
   ],
   "source": [
    "values = [7, 12, 9, 18, 15]\n",
    "values"
   ]
  },
  {
   "cell_type": "markdown",
   "id": "8499adfe",
   "metadata": {},
   "source": [
    "# Q1.4.2"
   ]
  },
  {
   "cell_type": "code",
   "execution_count": 21,
   "id": "47b223fb",
   "metadata": {},
   "outputs": [
    {
     "data": {
      "text/plain": [
       "[49, 144, 81, 324, 225]"
      ]
     },
     "execution_count": 21,
     "metadata": {},
     "output_type": "execute_result"
    }
   ],
   "source": [
    "values_update = [n**2 for n in values]\n",
    "values_update"
   ]
  },
  {
   "cell_type": "markdown",
   "id": "0d623cda",
   "metadata": {},
   "source": [
    "# Q1.5.1"
   ]
  },
  {
   "cell_type": "code",
   "execution_count": 22,
   "id": "ce68b27c",
   "metadata": {},
   "outputs": [
    {
     "data": {
      "text/plain": [
       "array([847, 701, 695, 872, 874, 656, 792, 883, 787, 796])"
      ]
     },
     "execution_count": 22,
     "metadata": {},
     "output_type": "execute_result"
    }
   ],
   "source": [
    "sample = np.random.randint(600, 900, size=10, dtype=int)\n",
    "sample"
   ]
  },
  {
   "cell_type": "markdown",
   "id": "8c7186c9",
   "metadata": {},
   "source": [
    "# Q1.5.2"
   ]
  },
  {
   "cell_type": "code",
   "execution_count": 23,
   "id": "10bc430a",
   "metadata": {},
   "outputs": [
    {
     "name": "stdout",
     "output_type": "stream",
     "text": [
      "['High', 'Medium', 'Low', 'High', 'High', 'Low', 'Medium', 'High', 'Medium', 'Medium']\n"
     ]
    }
   ],
   "source": [
    "def credit_score(nums): \n",
    "    return ['Low' if i<=699 else 'Medium' if i<=799 else 'High' for i in nums]\n",
    "    \n",
    "print(credit_score(sample))"
   ]
  },
  {
   "cell_type": "markdown",
   "id": "5343f213",
   "metadata": {},
   "source": [
    "# Q2.1.1"
   ]
  },
  {
   "cell_type": "code",
   "execution_count": 24,
   "id": "9e59839e",
   "metadata": {},
   "outputs": [
    {
     "name": "stdout",
     "output_type": "stream",
     "text": [
      "A:\n",
      " [[2 1]\n",
      " [1 1]\n",
      " [2 3]]\n",
      "\n",
      "B:\n",
      " [[-4  1]\n",
      " [ 3 -1]\n",
      " [-2  1]]\n",
      "\n",
      "2A:\n",
      " [[4 2]\n",
      " [2 2]\n",
      " [4 6]]\n",
      "\n",
      "-3B:\n",
      " [[12 -3]\n",
      " [-9  3]\n",
      " [ 6 -3]]\n",
      "\n",
      "A+B:\n",
      " [[-2  2]\n",
      " [ 4  0]\n",
      " [ 0  4]]\n"
     ]
    }
   ],
   "source": [
    "A = np.array([[2,1],[1,1],[2,3]])\n",
    "B = np.array([[-4,1],[3,-1],[-2,1]])\n",
    "print(\"A:\\n\", A)\n",
    "print(\"\\nB:\\n\", B)\n",
    "print(\"\\n2A:\\n\", A*2)\n",
    "print(\"\\n-3B:\\n\", -3*B)\n",
    "print(\"\\nA+B:\\n\", A+B)"
   ]
  },
  {
   "cell_type": "markdown",
   "id": "2610fe3b",
   "metadata": {},
   "source": [
    "# Q2.1.2"
   ]
  },
  {
   "cell_type": "code",
   "execution_count": 25,
   "id": "7e1f72ec",
   "metadata": {},
   "outputs": [
    {
     "name": "stdout",
     "output_type": "stream",
     "text": [
      "A:\n",
      " [[ 2 -6]\n",
      " [-4  0]\n",
      " [ 1  5]]\n",
      "\n",
      "B:\n",
      " [[1 1]\n",
      " [2 3]]\n",
      "\n",
      "A*B:\n",
      " [[-10 -16]\n",
      " [ -4  -4]\n",
      " [ 11  16]]\n",
      "\n",
      "Inverse of B:\n",
      " [[ 3. -1.]\n",
      " [-2.  1.]]\n"
     ]
    }
   ],
   "source": [
    "A = np.array([[2,-6],[-4,0],[1,5]])\n",
    "B= np.array([[1,1],[2,3]])\n",
    "print(\"A:\\n\", A)\n",
    "print(\"\\nB:\\n\", B)\n",
    "print(\"\\nA*B:\\n\", A.dot(B))\n",
    "print(\"\\nInverse of B:\\n\", np.linalg.inv(B))"
   ]
  },
  {
   "cell_type": "markdown",
   "id": "01cbdd0a",
   "metadata": {},
   "source": [
    "# Q2.1.3"
   ]
  },
  {
   "cell_type": "code",
   "execution_count": 26,
   "id": "fb79025d",
   "metadata": {},
   "outputs": [],
   "source": [
    "A = np.array([[1,0,4,1],[-2,1,-3,2],[0,0,0,2],[3,2,1,-1]])"
   ]
  },
  {
   "cell_type": "code",
   "execution_count": 27,
   "id": "6ef0a422",
   "metadata": {},
   "outputs": [
    {
     "data": {
      "text/plain": [
       "array([[ 1,  0,  3,  1],\n",
       "       [-2,  1,  3,  2],\n",
       "       [ 0,  0,  0,  2],\n",
       "       [ 3,  2,  1, -1]])"
      ]
     },
     "execution_count": 27,
     "metadata": {},
     "output_type": "execute_result"
    }
   ],
   "source": [
    "A_update = np.where(abs(A) >= 3, 3, A)\n",
    "A_update"
   ]
  },
  {
   "cell_type": "code",
   "execution_count": 28,
   "id": "8ff02c2e",
   "metadata": {},
   "outputs": [
    {
     "name": "stdout",
     "output_type": "stream",
     "text": [
      "The determint of A is 42.00000000000001\n"
     ]
    }
   ],
   "source": [
    "determ = np.linalg.det(A)\n",
    "print(\"The determint of A is\", determ)"
   ]
  },
  {
   "cell_type": "markdown",
   "id": "64de1528",
   "metadata": {},
   "source": [
    "# Q2.2.1"
   ]
  },
  {
   "cell_type": "code",
   "execution_count": 29,
   "id": "4b2c760b",
   "metadata": {},
   "outputs": [
    {
     "name": "stdout",
     "output_type": "stream",
     "text": [
      "maximum of x1 is 3\n",
      "maximum of x2 is 2\n",
      "maximum of x3 is 2\n"
     ]
    }
   ],
   "source": [
    "x1 = np.array([1,-2,3])\n",
    "x2 = np.array([2,0,-1,2])\n",
    "x3 = np.array([0,1,-4,2,-1])\n",
    "print(\"maximum of x1 is\", np.max(x1))\n",
    "print(\"maximum of x2 is\", np.max(x2))\n",
    "print(\"maximum of x3 is\", np.max(x3))"
   ]
  },
  {
   "cell_type": "code",
   "execution_count": 30,
   "id": "4981cb8b",
   "metadata": {},
   "outputs": [],
   "source": [
    "from numpy import linalg as LA"
   ]
  },
  {
   "cell_type": "code",
   "execution_count": 31,
   "id": "45e1559e",
   "metadata": {},
   "outputs": [
    {
     "name": "stdout",
     "output_type": "stream",
     "text": [
      "norm of x1 is 3.7416573867739413\n",
      "norm of x2 is 3.0\n",
      "norm of x3 is 4.69041575982343\n"
     ]
    }
   ],
   "source": [
    "print(\"norm of x1 is\",LA.norm(x1))\n",
    "print(\"norm of x2 is\",LA.norm(x2))\n",
    "print(\"norm of x3 is\",LA.norm(x3))"
   ]
  },
  {
   "cell_type": "markdown",
   "id": "79914aee",
   "metadata": {},
   "source": [
    "# Q2.2.2"
   ]
  },
  {
   "cell_type": "code",
   "execution_count": 32,
   "id": "1289b2cd",
   "metadata": {},
   "outputs": [
    {
     "name": "stdout",
     "output_type": "stream",
     "text": [
      "l2 norm of A1 is 5.0197648378370845\n",
      "l2 norm of A2 is 2.4998281017161057\n",
      "l∞ norm of A1 is 7.0\n",
      "l∞ norm of A2 is 3.0\n"
     ]
    }
   ],
   "source": [
    "A1 = np.array([[1,-2],[4,3]])\n",
    "A2 = np.array([[1,0,2],[0,1,-1],[-1,1,1]])\n",
    "print(\"l2 norm of A1 is\", LA.norm(A1,2))\n",
    "print(\"l2 norm of A2 is\", LA.norm(A2,2))\n",
    "print(\"l∞ norm of A1 is\", LA.norm(A1, np.inf))\n",
    "print(\"l∞ norm of A2 is\", LA.norm(A2, np.inf))"
   ]
  },
  {
   "cell_type": "markdown",
   "id": "380f02a6",
   "metadata": {},
   "source": [
    "# Q2.2.3"
   ]
  },
  {
   "cell_type": "code",
   "execution_count": 33,
   "id": "f7f7ee35",
   "metadata": {},
   "outputs": [
    {
     "name": "stdout",
     "output_type": "stream",
     "text": [
      "the eigenvalue of A is [  3. -12.  -3.]\n"
     ]
    }
   ],
   "source": [
    "A = np.array([[-2,-2,3],[-10,-1,6],[10,-2,-9]])\n",
    "w, v = LA.eig(A)\n",
    "print(\"the eigenvalue of A is\", w)"
   ]
  },
  {
   "cell_type": "markdown",
   "id": "4b3b5e98",
   "metadata": {},
   "source": [
    "# Q3.1.1"
   ]
  },
  {
   "cell_type": "code",
   "execution_count": 34,
   "id": "81cd73d0",
   "metadata": {},
   "outputs": [
    {
     "data": {
      "text/html": [
       "<div>\n",
       "<style scoped>\n",
       "    .dataframe tbody tr th:only-of-type {\n",
       "        vertical-align: middle;\n",
       "    }\n",
       "\n",
       "    .dataframe tbody tr th {\n",
       "        vertical-align: top;\n",
       "    }\n",
       "\n",
       "    .dataframe thead th {\n",
       "        text-align: right;\n",
       "    }\n",
       "</style>\n",
       "<table border=\"1\" class=\"dataframe\">\n",
       "  <thead>\n",
       "    <tr style=\"text-align: right;\">\n",
       "      <th></th>\n",
       "      <th>Date</th>\n",
       "      <th>Price_pl</th>\n",
       "    </tr>\n",
       "  </thead>\n",
       "  <tbody>\n",
       "    <tr>\n",
       "      <th>0</th>\n",
       "      <td>12/11/2015</td>\n",
       "      <td>1.049</td>\n",
       "    </tr>\n",
       "    <tr>\n",
       "      <th>1</th>\n",
       "      <td>19/11/2015</td>\n",
       "      <td>0.999</td>\n",
       "    </tr>\n",
       "    <tr>\n",
       "      <th>2</th>\n",
       "      <td>7/12/2015</td>\n",
       "      <td>0.999</td>\n",
       "    </tr>\n",
       "    <tr>\n",
       "      <th>3</th>\n",
       "      <td>19/12/2015</td>\n",
       "      <td>1.019</td>\n",
       "    </tr>\n",
       "    <tr>\n",
       "      <th>4</th>\n",
       "      <td>04/01/2016</td>\n",
       "      <td>1.019</td>\n",
       "    </tr>\n",
       "    <tr>\n",
       "      <th>...</th>\n",
       "      <td>...</td>\n",
       "      <td>...</td>\n",
       "    </tr>\n",
       "    <tr>\n",
       "      <th>77</th>\n",
       "      <td>17/10/2018</td>\n",
       "      <td>1.209</td>\n",
       "    </tr>\n",
       "    <tr>\n",
       "      <th>78</th>\n",
       "      <td>01/11/2018</td>\n",
       "      <td>1.196</td>\n",
       "    </tr>\n",
       "    <tr>\n",
       "      <th>79</th>\n",
       "      <td>12/11/2018</td>\n",
       "      <td>1.126</td>\n",
       "    </tr>\n",
       "    <tr>\n",
       "      <th>80</th>\n",
       "      <td>27/11/2018</td>\n",
       "      <td>1.059</td>\n",
       "    </tr>\n",
       "    <tr>\n",
       "      <th>81</th>\n",
       "      <td>06/12/2018</td>\n",
       "      <td>1.016</td>\n",
       "    </tr>\n",
       "  </tbody>\n",
       "</table>\n",
       "<p>82 rows × 2 columns</p>\n",
       "</div>"
      ],
      "text/plain": [
       "          Date  Price_pl\n",
       "0   12/11/2015     1.049\n",
       "1   19/11/2015     0.999\n",
       "2    7/12/2015     0.999\n",
       "3   19/12/2015     1.019\n",
       "4   04/01/2016     1.019\n",
       "..         ...       ...\n",
       "77  17/10/2018     1.209\n",
       "78  01/11/2018     1.196\n",
       "79  12/11/2018     1.126\n",
       "80  27/11/2018     1.059\n",
       "81  06/12/2018     1.016\n",
       "\n",
       "[82 rows x 2 columns]"
      ]
     },
     "execution_count": 34,
     "metadata": {},
     "output_type": "execute_result"
    }
   ],
   "source": [
    "# Get the original table\n",
    "warnings.simplefilter(\"ignore\")\n",
    "\n",
    "gas = pd.read_excel('Gas_prices.xlsx')\n",
    "gas_df = pd.DataFrame(gas)\n",
    "gas_df"
   ]
  },
  {
   "cell_type": "code",
   "execution_count": 35,
   "id": "819322de",
   "metadata": {},
   "outputs": [
    {
     "data": {
      "text/html": [
       "<div>\n",
       "<style scoped>\n",
       "    .dataframe tbody tr th:only-of-type {\n",
       "        vertical-align: middle;\n",
       "    }\n",
       "\n",
       "    .dataframe tbody tr th {\n",
       "        vertical-align: top;\n",
       "    }\n",
       "\n",
       "    .dataframe thead th {\n",
       "        text-align: right;\n",
       "    }\n",
       "</style>\n",
       "<table border=\"1\" class=\"dataframe\">\n",
       "  <thead>\n",
       "    <tr style=\"text-align: right;\">\n",
       "      <th></th>\n",
       "      <th>Date</th>\n",
       "      <th>Price_pl</th>\n",
       "    </tr>\n",
       "  </thead>\n",
       "  <tbody>\n",
       "    <tr>\n",
       "      <th>12</th>\n",
       "      <td>15/04/2016</td>\n",
       "      <td>NaN</td>\n",
       "    </tr>\n",
       "    <tr>\n",
       "      <th>25</th>\n",
       "      <td>02/08/2016</td>\n",
       "      <td>NaN</td>\n",
       "    </tr>\n",
       "    <tr>\n",
       "      <th>54</th>\n",
       "      <td>10/08/2017</td>\n",
       "      <td>NaN</td>\n",
       "    </tr>\n",
       "    <tr>\n",
       "      <th>70</th>\n",
       "      <td>24/04/2018</td>\n",
       "      <td>NaN</td>\n",
       "    </tr>\n",
       "  </tbody>\n",
       "</table>\n",
       "</div>"
      ],
      "text/plain": [
       "          Date  Price_pl\n",
       "12  15/04/2016       NaN\n",
       "25  02/08/2016       NaN\n",
       "54  10/08/2017       NaN\n",
       "70  24/04/2018       NaN"
      ]
     },
     "execution_count": 35,
     "metadata": {},
     "output_type": "execute_result"
    }
   ],
   "source": [
    "# search for the NaN item\n",
    "NnN_items = gas_df[gas_df.Price_pl.isnull()]\n",
    "NnN_items"
   ]
  },
  {
   "cell_type": "code",
   "execution_count": 36,
   "id": "d58f2072",
   "metadata": {},
   "outputs": [
    {
     "data": {
      "text/html": [
       "<div>\n",
       "<style scoped>\n",
       "    .dataframe tbody tr th:only-of-type {\n",
       "        vertical-align: middle;\n",
       "    }\n",
       "\n",
       "    .dataframe tbody tr th {\n",
       "        vertical-align: top;\n",
       "    }\n",
       "\n",
       "    .dataframe thead th {\n",
       "        text-align: right;\n",
       "    }\n",
       "</style>\n",
       "<table border=\"1\" class=\"dataframe\">\n",
       "  <thead>\n",
       "    <tr style=\"text-align: right;\">\n",
       "      <th></th>\n",
       "      <th>Date</th>\n",
       "      <th>Price_pl</th>\n",
       "    </tr>\n",
       "  </thead>\n",
       "  <tbody>\n",
       "    <tr>\n",
       "      <th>12</th>\n",
       "      <td>15/04/2016</td>\n",
       "      <td>1.0040</td>\n",
       "    </tr>\n",
       "    <tr>\n",
       "      <th>25</th>\n",
       "      <td>02/08/2016</td>\n",
       "      <td>0.9855</td>\n",
       "    </tr>\n",
       "    <tr>\n",
       "      <th>54</th>\n",
       "      <td>10/08/2017</td>\n",
       "      <td>1.0940</td>\n",
       "    </tr>\n",
       "    <tr>\n",
       "      <th>70</th>\n",
       "      <td>24/04/2018</td>\n",
       "      <td>1.2995</td>\n",
       "    </tr>\n",
       "  </tbody>\n",
       "</table>\n",
       "</div>"
      ],
      "text/plain": [
       "          Date  Price_pl\n",
       "12  15/04/2016    1.0040\n",
       "25  02/08/2016    0.9855\n",
       "54  10/08/2017    1.0940\n",
       "70  24/04/2018    1.2995"
      ]
     },
     "execution_count": 36,
     "metadata": {},
     "output_type": "execute_result"
    }
   ],
   "source": [
    "# define the interpolation function\n",
    "def interpolation(df, value):\n",
    "    for nan_id in df[df[value].isnull()].index:\n",
    "        df.loc[nan_id,value] = (df.loc[nan_id-1,value] + df.loc[nan_id+1,value])/2\n",
    "    return df\n",
    "\n",
    "#check if the function works, name the new DataFrame as gas_new\n",
    "gas_new = interpolation(gas_df, \"Price_pl\")\n",
    "gas_new.iloc[NnN_items.index]"
   ]
  },
  {
   "cell_type": "markdown",
   "id": "47d2fe9c",
   "metadata": {},
   "source": [
    "# Q3.2"
   ]
  },
  {
   "cell_type": "code",
   "execution_count": 37,
   "id": "440e7d65",
   "metadata": {
    "scrolled": false
   },
   "outputs": [
    {
     "data": {
      "text/html": [
       "<div>\n",
       "<style scoped>\n",
       "    .dataframe tbody tr th:only-of-type {\n",
       "        vertical-align: middle;\n",
       "    }\n",
       "\n",
       "    .dataframe tbody tr th {\n",
       "        vertical-align: top;\n",
       "    }\n",
       "\n",
       "    .dataframe thead th {\n",
       "        text-align: right;\n",
       "    }\n",
       "</style>\n",
       "<table border=\"1\" class=\"dataframe\">\n",
       "  <thead>\n",
       "    <tr style=\"text-align: right;\">\n",
       "      <th></th>\n",
       "      <th>Date</th>\n",
       "      <th>Price_pl</th>\n",
       "    </tr>\n",
       "  </thead>\n",
       "  <tbody>\n",
       "    <tr>\n",
       "      <th>9</th>\n",
       "      <td>20/2/2016</td>\n",
       "      <td>0.8890</td>\n",
       "    </tr>\n",
       "    <tr>\n",
       "      <th>8</th>\n",
       "      <td>5/2/2016</td>\n",
       "      <td>0.9090</td>\n",
       "    </tr>\n",
       "    <tr>\n",
       "      <th>10</th>\n",
       "      <td>06/03/2016</td>\n",
       "      <td>0.9090</td>\n",
       "    </tr>\n",
       "    <tr>\n",
       "      <th>6</th>\n",
       "      <td>18/01/2016</td>\n",
       "      <td>0.9290</td>\n",
       "    </tr>\n",
       "    <tr>\n",
       "      <th>32</th>\n",
       "      <td>13/11/2016</td>\n",
       "      <td>0.9420</td>\n",
       "    </tr>\n",
       "    <tr>\n",
       "      <th>...</th>\n",
       "      <td>...</td>\n",
       "      <td>...</td>\n",
       "    </tr>\n",
       "    <tr>\n",
       "      <th>70</th>\n",
       "      <td>24/04/2018</td>\n",
       "      <td>1.2995</td>\n",
       "    </tr>\n",
       "    <tr>\n",
       "      <th>71</th>\n",
       "      <td>02/05/2018</td>\n",
       "      <td>1.3230</td>\n",
       "    </tr>\n",
       "    <tr>\n",
       "      <th>75</th>\n",
       "      <td>3/7/2018</td>\n",
       "      <td>1.3260</td>\n",
       "    </tr>\n",
       "    <tr>\n",
       "      <th>72</th>\n",
       "      <td>12/05/2018</td>\n",
       "      <td>1.3260</td>\n",
       "    </tr>\n",
       "    <tr>\n",
       "      <th>73</th>\n",
       "      <td>23/05/2018</td>\n",
       "      <td>1.3360</td>\n",
       "    </tr>\n",
       "  </tbody>\n",
       "</table>\n",
       "<p>82 rows × 2 columns</p>\n",
       "</div>"
      ],
      "text/plain": [
       "          Date  Price_pl\n",
       "9    20/2/2016    0.8890\n",
       "8     5/2/2016    0.9090\n",
       "10  06/03/2016    0.9090\n",
       "6   18/01/2016    0.9290\n",
       "32  13/11/2016    0.9420\n",
       "..         ...       ...\n",
       "70  24/04/2018    1.2995\n",
       "71  02/05/2018    1.3230\n",
       "75    3/7/2018    1.3260\n",
       "72  12/05/2018    1.3260\n",
       "73  23/05/2018    1.3360\n",
       "\n",
       "[82 rows x 2 columns]"
      ]
     },
     "execution_count": 37,
     "metadata": {},
     "output_type": "execute_result"
    }
   ],
   "source": [
    "Sort_gas = gas_new.sort_values(by='Price_pl')\n",
    "Sort_gas"
   ]
  },
  {
   "cell_type": "markdown",
   "id": "4ed2d9db",
   "metadata": {},
   "source": [
    "we could see the minimum price of 0.8890 appeared on 20/2/2016 with index 9, and \n",
    "the maximum price of 1.3360 appeared on 23/05/2018 with index 73"
   ]
  },
  {
   "cell_type": "markdown",
   "id": "3efe22b2",
   "metadata": {},
   "source": [
    "# Q3.3"
   ]
  },
  {
   "cell_type": "code",
   "execution_count": 38,
   "id": "e578a7f3",
   "metadata": {},
   "outputs": [
    {
     "data": {
      "text/html": [
       "<div>\n",
       "<style scoped>\n",
       "    .dataframe tbody tr th:only-of-type {\n",
       "        vertical-align: middle;\n",
       "    }\n",
       "\n",
       "    .dataframe tbody tr th {\n",
       "        vertical-align: top;\n",
       "    }\n",
       "\n",
       "    .dataframe thead th {\n",
       "        text-align: right;\n",
       "    }\n",
       "</style>\n",
       "<table border=\"1\" class=\"dataframe\">\n",
       "  <thead>\n",
       "    <tr style=\"text-align: right;\">\n",
       "      <th></th>\n",
       "      <th>Price_pl</th>\n",
       "    </tr>\n",
       "  </thead>\n",
       "  <tbody>\n",
       "    <tr>\n",
       "      <th>count</th>\n",
       "      <td>82.000000</td>\n",
       "    </tr>\n",
       "    <tr>\n",
       "      <th>mean</th>\n",
       "      <td>1.095390</td>\n",
       "    </tr>\n",
       "    <tr>\n",
       "      <th>std</th>\n",
       "      <td>0.107164</td>\n",
       "    </tr>\n",
       "    <tr>\n",
       "      <th>min</th>\n",
       "      <td>0.889000</td>\n",
       "    </tr>\n",
       "    <tr>\n",
       "      <th>25%</th>\n",
       "      <td>1.019750</td>\n",
       "    </tr>\n",
       "    <tr>\n",
       "      <th>50%</th>\n",
       "      <td>1.079000</td>\n",
       "    </tr>\n",
       "    <tr>\n",
       "      <th>75%</th>\n",
       "      <td>1.171750</td>\n",
       "    </tr>\n",
       "    <tr>\n",
       "      <th>max</th>\n",
       "      <td>1.336000</td>\n",
       "    </tr>\n",
       "  </tbody>\n",
       "</table>\n",
       "</div>"
      ],
      "text/plain": [
       "        Price_pl\n",
       "count  82.000000\n",
       "mean    1.095390\n",
       "std     0.107164\n",
       "min     0.889000\n",
       "25%     1.019750\n",
       "50%     1.079000\n",
       "75%     1.171750\n",
       "max     1.336000"
      ]
     },
     "execution_count": 38,
     "metadata": {},
     "output_type": "execute_result"
    }
   ],
   "source": [
    "summary = gas_new.describe()\n",
    "summary"
   ]
  },
  {
   "cell_type": "markdown",
   "id": "ec8971f6",
   "metadata": {},
   "source": [
    "the table can show parts of the answers, which are the same with the results below"
   ]
  },
  {
   "cell_type": "code",
   "execution_count": 39,
   "id": "33860dc7",
   "metadata": {},
   "outputs": [
    {
     "name": "stdout",
     "output_type": "stream",
     "text": [
      "the mean is 1.0953902439024386\n",
      "the median is 1.079\n",
      "the 25% quantile is 1.01975\n",
      "the 50% quantile is 1.079\n",
      "the 75% quantile is 1.1717499999999998\n",
      "the skewness is 0.46752591499730667\n",
      "the kurtosis is -0.257963187132765\n"
     ]
    }
   ],
   "source": [
    "print(\"the mean is\", gas_new.Price_pl.mean())\n",
    "print(\"the median is\", gas_new.Price_pl.median())\n",
    "print(\"the 25% quantile is\",summary.iloc[4,0])\n",
    "print(\"the 50% quantile is\", summary.iloc[5,0])\n",
    "print(\"the 75% quantile is\", summary.iloc[6,0])\n",
    "print(\"the skewness is\", gas_new['Price_pl'].astype(float).skew())\n",
    "print(\"the kurtosis is\", gas_new['Price_pl'].astype(float).kurt())"
   ]
  },
  {
   "cell_type": "markdown",
   "id": "fd3ce4ba",
   "metadata": {},
   "source": [
    "# Q3.4"
   ]
  },
  {
   "cell_type": "code",
   "execution_count": 40,
   "id": "ef70581e",
   "metadata": {},
   "outputs": [
    {
     "data": {
      "text/html": [
       "<div>\n",
       "<style scoped>\n",
       "    .dataframe tbody tr th:only-of-type {\n",
       "        vertical-align: middle;\n",
       "    }\n",
       "\n",
       "    .dataframe tbody tr th {\n",
       "        vertical-align: top;\n",
       "    }\n",
       "\n",
       "    .dataframe thead th {\n",
       "        text-align: right;\n",
       "    }\n",
       "</style>\n",
       "<table border=\"1\" class=\"dataframe\">\n",
       "  <thead>\n",
       "    <tr style=\"text-align: right;\">\n",
       "      <th></th>\n",
       "      <th>Price_pl</th>\n",
       "      <th>Month</th>\n",
       "      <th>Year</th>\n",
       "    </tr>\n",
       "  </thead>\n",
       "  <tbody>\n",
       "    <tr>\n",
       "      <th>0</th>\n",
       "      <td>1.049</td>\n",
       "      <td>11</td>\n",
       "      <td>2015</td>\n",
       "    </tr>\n",
       "    <tr>\n",
       "      <th>1</th>\n",
       "      <td>0.999</td>\n",
       "      <td>11</td>\n",
       "      <td>2015</td>\n",
       "    </tr>\n",
       "    <tr>\n",
       "      <th>2</th>\n",
       "      <td>0.999</td>\n",
       "      <td>12</td>\n",
       "      <td>2015</td>\n",
       "    </tr>\n",
       "    <tr>\n",
       "      <th>3</th>\n",
       "      <td>1.019</td>\n",
       "      <td>12</td>\n",
       "      <td>2015</td>\n",
       "    </tr>\n",
       "    <tr>\n",
       "      <th>4</th>\n",
       "      <td>1.019</td>\n",
       "      <td>1</td>\n",
       "      <td>2016</td>\n",
       "    </tr>\n",
       "    <tr>\n",
       "      <th>...</th>\n",
       "      <td>...</td>\n",
       "      <td>...</td>\n",
       "      <td>...</td>\n",
       "    </tr>\n",
       "    <tr>\n",
       "      <th>77</th>\n",
       "      <td>1.209</td>\n",
       "      <td>10</td>\n",
       "      <td>2018</td>\n",
       "    </tr>\n",
       "    <tr>\n",
       "      <th>78</th>\n",
       "      <td>1.196</td>\n",
       "      <td>11</td>\n",
       "      <td>2018</td>\n",
       "    </tr>\n",
       "    <tr>\n",
       "      <th>79</th>\n",
       "      <td>1.126</td>\n",
       "      <td>11</td>\n",
       "      <td>2018</td>\n",
       "    </tr>\n",
       "    <tr>\n",
       "      <th>80</th>\n",
       "      <td>1.059</td>\n",
       "      <td>11</td>\n",
       "      <td>2018</td>\n",
       "    </tr>\n",
       "    <tr>\n",
       "      <th>81</th>\n",
       "      <td>1.016</td>\n",
       "      <td>12</td>\n",
       "      <td>2018</td>\n",
       "    </tr>\n",
       "  </tbody>\n",
       "</table>\n",
       "<p>82 rows × 3 columns</p>\n",
       "</div>"
      ],
      "text/plain": [
       "    Price_pl  Month  Year\n",
       "0      1.049     11  2015\n",
       "1      0.999     11  2015\n",
       "2      0.999     12  2015\n",
       "3      1.019     12  2015\n",
       "4      1.019      1  2016\n",
       "..       ...    ...   ...\n",
       "77     1.209     10  2018\n",
       "78     1.196     11  2018\n",
       "79     1.126     11  2018\n",
       "80     1.059     11  2018\n",
       "81     1.016     12  2018\n",
       "\n",
       "[82 rows x 3 columns]"
      ]
     },
     "execution_count": 40,
     "metadata": {},
     "output_type": "execute_result"
    }
   ],
   "source": [
    "# add Month and Year as columns\n",
    "gas_new[['Date2','Month','Year']] = gas_new['Date'].str.split(\"/\", expand = True)\n",
    "gas_update = gas_new.drop(['Date','Date2'], axis=1)\n",
    "gas_update['Month']=gas_update['Month'].astype(int)\n",
    "gas_update"
   ]
  },
  {
   "cell_type": "code",
   "execution_count": 41,
   "id": "d84d9496",
   "metadata": {},
   "outputs": [
    {
     "data": {
      "text/html": [
       "<div>\n",
       "<style scoped>\n",
       "    .dataframe tbody tr th:only-of-type {\n",
       "        vertical-align: middle;\n",
       "    }\n",
       "\n",
       "    .dataframe tbody tr th {\n",
       "        vertical-align: top;\n",
       "    }\n",
       "\n",
       "    .dataframe thead th {\n",
       "        text-align: right;\n",
       "    }\n",
       "</style>\n",
       "<table border=\"1\" class=\"dataframe\">\n",
       "  <thead>\n",
       "    <tr style=\"text-align: right;\">\n",
       "      <th>Year</th>\n",
       "      <th>2015</th>\n",
       "      <th>2016</th>\n",
       "      <th>2017</th>\n",
       "      <th>2018</th>\n",
       "    </tr>\n",
       "    <tr>\n",
       "      <th>Month</th>\n",
       "      <th></th>\n",
       "      <th></th>\n",
       "      <th></th>\n",
       "      <th></th>\n",
       "    </tr>\n",
       "  </thead>\n",
       "  <tbody>\n",
       "    <tr>\n",
       "      <th>1</th>\n",
       "      <td>NaN</td>\n",
       "      <td>0.964000</td>\n",
       "      <td>1.119000</td>\n",
       "      <td>1.197500</td>\n",
       "    </tr>\n",
       "    <tr>\n",
       "      <th>2</th>\n",
       "      <td>NaN</td>\n",
       "      <td>0.899000</td>\n",
       "      <td>1.079000</td>\n",
       "      <td>1.186000</td>\n",
       "    </tr>\n",
       "    <tr>\n",
       "      <th>3</th>\n",
       "      <td>NaN</td>\n",
       "      <td>0.929000</td>\n",
       "      <td>1.075000</td>\n",
       "      <td>1.215000</td>\n",
       "    </tr>\n",
       "    <tr>\n",
       "      <th>4</th>\n",
       "      <td>NaN</td>\n",
       "      <td>1.031500</td>\n",
       "      <td>1.175667</td>\n",
       "      <td>1.287750</td>\n",
       "    </tr>\n",
       "    <tr>\n",
       "      <th>5</th>\n",
       "      <td>NaN</td>\n",
       "      <td>1.075667</td>\n",
       "      <td>1.109000</td>\n",
       "      <td>1.328333</td>\n",
       "    </tr>\n",
       "    <tr>\n",
       "      <th>6</th>\n",
       "      <td>NaN</td>\n",
       "      <td>1.048000</td>\n",
       "      <td>1.022000</td>\n",
       "      <td>1.289000</td>\n",
       "    </tr>\n",
       "    <tr>\n",
       "      <th>7</th>\n",
       "      <td>NaN</td>\n",
       "      <td>1.024000</td>\n",
       "      <td>1.059000</td>\n",
       "      <td>1.312500</td>\n",
       "    </tr>\n",
       "    <tr>\n",
       "      <th>8</th>\n",
       "      <td>NaN</td>\n",
       "      <td>0.993875</td>\n",
       "      <td>1.100667</td>\n",
       "      <td>NaN</td>\n",
       "    </tr>\n",
       "    <tr>\n",
       "      <th>9</th>\n",
       "      <td>NaN</td>\n",
       "      <td>0.999000</td>\n",
       "      <td>1.086000</td>\n",
       "      <td>NaN</td>\n",
       "    </tr>\n",
       "    <tr>\n",
       "      <th>10</th>\n",
       "      <td>NaN</td>\n",
       "      <td>1.049000</td>\n",
       "      <td>1.126000</td>\n",
       "      <td>1.209000</td>\n",
       "    </tr>\n",
       "    <tr>\n",
       "      <th>11</th>\n",
       "      <td>1.024</td>\n",
       "      <td>0.949000</td>\n",
       "      <td>1.183000</td>\n",
       "      <td>1.127000</td>\n",
       "    </tr>\n",
       "    <tr>\n",
       "      <th>12</th>\n",
       "      <td>1.009</td>\n",
       "      <td>1.074000</td>\n",
       "      <td>1.211000</td>\n",
       "      <td>1.016000</td>\n",
       "    </tr>\n",
       "  </tbody>\n",
       "</table>\n",
       "</div>"
      ],
      "text/plain": [
       "Year    2015      2016      2017      2018\n",
       "Month                                     \n",
       "1        NaN  0.964000  1.119000  1.197500\n",
       "2        NaN  0.899000  1.079000  1.186000\n",
       "3        NaN  0.929000  1.075000  1.215000\n",
       "4        NaN  1.031500  1.175667  1.287750\n",
       "5        NaN  1.075667  1.109000  1.328333\n",
       "6        NaN  1.048000  1.022000  1.289000\n",
       "7        NaN  1.024000  1.059000  1.312500\n",
       "8        NaN  0.993875  1.100667       NaN\n",
       "9        NaN  0.999000  1.086000       NaN\n",
       "10       NaN  1.049000  1.126000  1.209000\n",
       "11     1.024  0.949000  1.183000  1.127000\n",
       "12     1.009  1.074000  1.211000  1.016000"
      ]
     },
     "execution_count": 41,
     "metadata": {},
     "output_type": "execute_result"
    }
   ],
   "source": [
    "# pivot and calculate monthly avarage\n",
    "gas_pivot = pd.pivot_table(gas_update, values='Price_pl',columns=['Year'],index=['Month'])\n",
    "gas_pivot"
   ]
  },
  {
   "cell_type": "code",
   "execution_count": 42,
   "id": "a8f19fdb",
   "metadata": {},
   "outputs": [
    {
     "data": {
      "text/plain": [
       "<matplotlib.legend.Legend at 0x7fed82cfe910>"
      ]
     },
     "execution_count": 42,
     "metadata": {},
     "output_type": "execute_result"
    },
    {
     "data": {
      "image/png": "[encoded data removed]",
      "text/plain": [
       "<Figure size 936x504 with 1 Axes>"
      ]
     },
     "metadata": {
      "needs_background": "light"
     },
     "output_type": "display_data"
    }
   ],
   "source": [
    "plt.rcParams['xtick.labelsize'] = 18\n",
    "plt.rcParams['ytick.labelsize'] = 18\n",
    "\n",
    "fig = plt.figure(figsize=(13,7))\n",
    "plt.plot(gas_pivot.index, gas_pivot.values, '-o')\n",
    "plt.xlabel('month', fontsize=16)\n",
    "plt.ylabel('monthly average gas price', fontsize=16)\n",
    "# plt.yscale('symlog')\n",
    "plt.legend(gas_update.columns, loc='best', ncol=3)"
   ]
  },
  {
   "cell_type": "markdown",
   "id": "65ec3245",
   "metadata": {},
   "source": [
    "# Q3.5"
   ]
  },
  {
   "cell_type": "code",
   "execution_count": 43,
   "id": "b50ba8fc",
   "metadata": {},
   "outputs": [
    {
     "data": {
      "text/html": [
       "<div>\n",
       "<style scoped>\n",
       "    .dataframe tbody tr th:only-of-type {\n",
       "        vertical-align: middle;\n",
       "    }\n",
       "\n",
       "    .dataframe tbody tr th {\n",
       "        vertical-align: top;\n",
       "    }\n",
       "\n",
       "    .dataframe thead th {\n",
       "        text-align: right;\n",
       "    }\n",
       "</style>\n",
       "<table border=\"1\" class=\"dataframe\">\n",
       "  <thead>\n",
       "    <tr style=\"text-align: right;\">\n",
       "      <th></th>\n",
       "      <th>Price_pl</th>\n",
       "      <th>Month</th>\n",
       "      <th>Year</th>\n",
       "      <th>Season</th>\n",
       "    </tr>\n",
       "  </thead>\n",
       "  <tbody>\n",
       "    <tr>\n",
       "      <th>0</th>\n",
       "      <td>1.049</td>\n",
       "      <td>11</td>\n",
       "      <td>2015</td>\n",
       "      <td>Fall</td>\n",
       "    </tr>\n",
       "    <tr>\n",
       "      <th>1</th>\n",
       "      <td>0.999</td>\n",
       "      <td>11</td>\n",
       "      <td>2015</td>\n",
       "      <td>Fall</td>\n",
       "    </tr>\n",
       "    <tr>\n",
       "      <th>2</th>\n",
       "      <td>0.999</td>\n",
       "      <td>12</td>\n",
       "      <td>2015</td>\n",
       "      <td>Winter</td>\n",
       "    </tr>\n",
       "    <tr>\n",
       "      <th>3</th>\n",
       "      <td>1.019</td>\n",
       "      <td>12</td>\n",
       "      <td>2015</td>\n",
       "      <td>Winter</td>\n",
       "    </tr>\n",
       "    <tr>\n",
       "      <th>4</th>\n",
       "      <td>1.019</td>\n",
       "      <td>1</td>\n",
       "      <td>2016</td>\n",
       "      <td>Winter</td>\n",
       "    </tr>\n",
       "    <tr>\n",
       "      <th>...</th>\n",
       "      <td>...</td>\n",
       "      <td>...</td>\n",
       "      <td>...</td>\n",
       "      <td>...</td>\n",
       "    </tr>\n",
       "    <tr>\n",
       "      <th>77</th>\n",
       "      <td>1.209</td>\n",
       "      <td>10</td>\n",
       "      <td>2018</td>\n",
       "      <td>Fall</td>\n",
       "    </tr>\n",
       "    <tr>\n",
       "      <th>78</th>\n",
       "      <td>1.196</td>\n",
       "      <td>11</td>\n",
       "      <td>2018</td>\n",
       "      <td>Fall</td>\n",
       "    </tr>\n",
       "    <tr>\n",
       "      <th>79</th>\n",
       "      <td>1.126</td>\n",
       "      <td>11</td>\n",
       "      <td>2018</td>\n",
       "      <td>Fall</td>\n",
       "    </tr>\n",
       "    <tr>\n",
       "      <th>80</th>\n",
       "      <td>1.059</td>\n",
       "      <td>11</td>\n",
       "      <td>2018</td>\n",
       "      <td>Fall</td>\n",
       "    </tr>\n",
       "    <tr>\n",
       "      <th>81</th>\n",
       "      <td>1.016</td>\n",
       "      <td>12</td>\n",
       "      <td>2018</td>\n",
       "      <td>Winter</td>\n",
       "    </tr>\n",
       "  </tbody>\n",
       "</table>\n",
       "<p>82 rows × 4 columns</p>\n",
       "</div>"
      ],
      "text/plain": [
       "    Price_pl  Month  Year  Season\n",
       "0      1.049     11  2015    Fall\n",
       "1      0.999     11  2015    Fall\n",
       "2      0.999     12  2015  Winter\n",
       "3      1.019     12  2015  Winter\n",
       "4      1.019      1  2016  Winter\n",
       "..       ...    ...   ...     ...\n",
       "77     1.209     10  2018    Fall\n",
       "78     1.196     11  2018    Fall\n",
       "79     1.126     11  2018    Fall\n",
       "80     1.059     11  2018    Fall\n",
       "81     1.016     12  2018  Winter\n",
       "\n",
       "[82 rows x 4 columns]"
      ]
     },
     "execution_count": 43,
     "metadata": {},
     "output_type": "execute_result"
    }
   ],
   "source": [
    "# add a Season as a new column\n",
    "# define the season function first and apply it to the original data\n",
    "\n",
    "def season(mon):\n",
    "    return 'Spring' if mon in [3,4,5] else 'Summer' if mon in [6,7,8] else 'Fall' if mon in [9,10,11] else 'Winter'\n",
    "\n",
    "gas_update['Season'] = gas_update['Month'].apply(season)\n",
    "gas_update"
   ]
  },
  {
   "cell_type": "code",
   "execution_count": 44,
   "id": "812df5e7",
   "metadata": {},
   "outputs": [
    {
     "data": {
      "text/html": [
       "<div>\n",
       "<style scoped>\n",
       "    .dataframe tbody tr th:only-of-type {\n",
       "        vertical-align: middle;\n",
       "    }\n",
       "\n",
       "    .dataframe tbody tr th {\n",
       "        vertical-align: top;\n",
       "    }\n",
       "\n",
       "    .dataframe thead th {\n",
       "        text-align: right;\n",
       "    }\n",
       "</style>\n",
       "<table border=\"1\" class=\"dataframe\">\n",
       "  <thead>\n",
       "    <tr style=\"text-align: right;\">\n",
       "      <th></th>\n",
       "      <th>Year</th>\n",
       "      <th>2015</th>\n",
       "      <th>2016</th>\n",
       "      <th>2017</th>\n",
       "      <th>2018</th>\n",
       "    </tr>\n",
       "    <tr>\n",
       "      <th>Month</th>\n",
       "      <th>Season</th>\n",
       "      <th></th>\n",
       "      <th></th>\n",
       "      <th></th>\n",
       "      <th></th>\n",
       "    </tr>\n",
       "  </thead>\n",
       "  <tbody>\n",
       "    <tr>\n",
       "      <th>1</th>\n",
       "      <th>Winter</th>\n",
       "      <td>NaN</td>\n",
       "      <td>0.964000</td>\n",
       "      <td>1.119000</td>\n",
       "      <td>1.197500</td>\n",
       "    </tr>\n",
       "    <tr>\n",
       "      <th>2</th>\n",
       "      <th>Winter</th>\n",
       "      <td>NaN</td>\n",
       "      <td>0.899000</td>\n",
       "      <td>1.079000</td>\n",
       "      <td>1.186000</td>\n",
       "    </tr>\n",
       "    <tr>\n",
       "      <th>3</th>\n",
       "      <th>Spring</th>\n",
       "      <td>NaN</td>\n",
       "      <td>0.929000</td>\n",
       "      <td>1.075000</td>\n",
       "      <td>1.215000</td>\n",
       "    </tr>\n",
       "    <tr>\n",
       "      <th>4</th>\n",
       "      <th>Spring</th>\n",
       "      <td>NaN</td>\n",
       "      <td>1.031500</td>\n",
       "      <td>1.175667</td>\n",
       "      <td>1.287750</td>\n",
       "    </tr>\n",
       "    <tr>\n",
       "      <th>5</th>\n",
       "      <th>Spring</th>\n",
       "      <td>NaN</td>\n",
       "      <td>1.075667</td>\n",
       "      <td>1.109000</td>\n",
       "      <td>1.328333</td>\n",
       "    </tr>\n",
       "    <tr>\n",
       "      <th>6</th>\n",
       "      <th>Summer</th>\n",
       "      <td>NaN</td>\n",
       "      <td>1.048000</td>\n",
       "      <td>1.022000</td>\n",
       "      <td>1.289000</td>\n",
       "    </tr>\n",
       "    <tr>\n",
       "      <th>7</th>\n",
       "      <th>Summer</th>\n",
       "      <td>NaN</td>\n",
       "      <td>1.024000</td>\n",
       "      <td>1.059000</td>\n",
       "      <td>1.312500</td>\n",
       "    </tr>\n",
       "    <tr>\n",
       "      <th>8</th>\n",
       "      <th>Summer</th>\n",
       "      <td>NaN</td>\n",
       "      <td>0.993875</td>\n",
       "      <td>1.100667</td>\n",
       "      <td>NaN</td>\n",
       "    </tr>\n",
       "    <tr>\n",
       "      <th>9</th>\n",
       "      <th>Fall</th>\n",
       "      <td>NaN</td>\n",
       "      <td>0.999000</td>\n",
       "      <td>1.086000</td>\n",
       "      <td>NaN</td>\n",
       "    </tr>\n",
       "    <tr>\n",
       "      <th>10</th>\n",
       "      <th>Fall</th>\n",
       "      <td>NaN</td>\n",
       "      <td>1.049000</td>\n",
       "      <td>1.126000</td>\n",
       "      <td>1.209000</td>\n",
       "    </tr>\n",
       "    <tr>\n",
       "      <th>11</th>\n",
       "      <th>Fall</th>\n",
       "      <td>1.024</td>\n",
       "      <td>0.949000</td>\n",
       "      <td>1.183000</td>\n",
       "      <td>1.127000</td>\n",
       "    </tr>\n",
       "    <tr>\n",
       "      <th>12</th>\n",
       "      <th>Winter</th>\n",
       "      <td>1.009</td>\n",
       "      <td>1.074000</td>\n",
       "      <td>1.211000</td>\n",
       "      <td>1.016000</td>\n",
       "    </tr>\n",
       "  </tbody>\n",
       "</table>\n",
       "</div>"
      ],
      "text/plain": [
       "Year           2015      2016      2017      2018\n",
       "Month Season                                     \n",
       "1     Winter    NaN  0.964000  1.119000  1.197500\n",
       "2     Winter    NaN  0.899000  1.079000  1.186000\n",
       "3     Spring    NaN  0.929000  1.075000  1.215000\n",
       "4     Spring    NaN  1.031500  1.175667  1.287750\n",
       "5     Spring    NaN  1.075667  1.109000  1.328333\n",
       "6     Summer    NaN  1.048000  1.022000  1.289000\n",
       "7     Summer    NaN  1.024000  1.059000  1.312500\n",
       "8     Summer    NaN  0.993875  1.100667       NaN\n",
       "9     Fall      NaN  0.999000  1.086000       NaN\n",
       "10    Fall      NaN  1.049000  1.126000  1.209000\n",
       "11    Fall    1.024  0.949000  1.183000  1.127000\n",
       "12    Winter  1.009  1.074000  1.211000  1.016000"
      ]
     },
     "execution_count": 44,
     "metadata": {},
     "output_type": "execute_result"
    }
   ],
   "source": [
    "# set season as a secondary index \n",
    "with_season = pd.pivot_table(gas_update, values='Price_pl', index=['Month','Season'],columns=['Year'])\n",
    "with_season"
   ]
  },
  {
   "cell_type": "code",
   "execution_count": 45,
   "id": "d6a68b73",
   "metadata": {},
   "outputs": [
    {
     "data": {
      "text/html": [
       "<div>\n",
       "<style scoped>\n",
       "    .dataframe tbody tr th:only-of-type {\n",
       "        vertical-align: middle;\n",
       "    }\n",
       "\n",
       "    .dataframe tbody tr th {\n",
       "        vertical-align: top;\n",
       "    }\n",
       "\n",
       "    .dataframe thead th {\n",
       "        text-align: right;\n",
       "    }\n",
       "</style>\n",
       "<table border=\"1\" class=\"dataframe\">\n",
       "  <thead>\n",
       "    <tr style=\"text-align: right;\">\n",
       "      <th></th>\n",
       "      <th>Price_pl</th>\n",
       "    </tr>\n",
       "    <tr>\n",
       "      <th>Season</th>\n",
       "      <th></th>\n",
       "    </tr>\n",
       "  </thead>\n",
       "  <tbody>\n",
       "    <tr>\n",
       "      <th>Fall</th>\n",
       "      <td>1.073429</td>\n",
       "    </tr>\n",
       "    <tr>\n",
       "      <th>Spring</th>\n",
       "      <td>1.133019</td>\n",
       "    </tr>\n",
       "    <tr>\n",
       "      <th>Summer</th>\n",
       "      <td>1.086147</td>\n",
       "    </tr>\n",
       "    <tr>\n",
       "      <th>Winter</th>\n",
       "      <td>1.072417</td>\n",
       "    </tr>\n",
       "  </tbody>\n",
       "</table>\n",
       "</div>"
      ],
      "text/plain": [
       "        Price_pl\n",
       "Season          \n",
       "Fall    1.073429\n",
       "Spring  1.133019\n",
       "Summer  1.086147\n",
       "Winter  1.072417"
      ]
     },
     "execution_count": 45,
     "metadata": {},
     "output_type": "execute_result"
    }
   ],
   "source": [
    "# calculate the average of every season (regardless of the year) to create the table\n",
    "\n",
    "gas_season = pd.pivot_table(gas_update, values='Price_pl',index=['Season'])\n",
    "gas_season"
   ]
  },
  {
   "cell_type": "code",
   "execution_count": 46,
   "id": "83011fe3",
   "metadata": {},
   "outputs": [
    {
     "data": {
      "text/html": [
       "<div>\n",
       "<style scoped>\n",
       "    .dataframe tbody tr th:only-of-type {\n",
       "        vertical-align: middle;\n",
       "    }\n",
       "\n",
       "    .dataframe tbody tr th {\n",
       "        vertical-align: top;\n",
       "    }\n",
       "\n",
       "    .dataframe thead th {\n",
       "        text-align: right;\n",
       "    }\n",
       "</style>\n",
       "<table border=\"1\" class=\"dataframe\">\n",
       "  <thead>\n",
       "    <tr style=\"text-align: right;\">\n",
       "      <th></th>\n",
       "      <th>Average price ($)</th>\n",
       "    </tr>\n",
       "    <tr>\n",
       "      <th>Season</th>\n",
       "      <th></th>\n",
       "    </tr>\n",
       "  </thead>\n",
       "  <tbody>\n",
       "    <tr>\n",
       "      <th>Fall</th>\n",
       "      <td>1.073429</td>\n",
       "    </tr>\n",
       "    <tr>\n",
       "      <th>Spring</th>\n",
       "      <td>1.133019</td>\n",
       "    </tr>\n",
       "    <tr>\n",
       "      <th>Summer</th>\n",
       "      <td>1.086147</td>\n",
       "    </tr>\n",
       "    <tr>\n",
       "      <th>Winter</th>\n",
       "      <td>1.072417</td>\n",
       "    </tr>\n",
       "  </tbody>\n",
       "</table>\n",
       "</div>"
      ],
      "text/plain": [
       "        Average price ($)\n",
       "Season                   \n",
       "Fall             1.073429\n",
       "Spring           1.133019\n",
       "Summer           1.086147\n",
       "Winter           1.072417"
      ]
     },
     "execution_count": 46,
     "metadata": {},
     "output_type": "execute_result"
    }
   ],
   "source": [
    "# change the order of the index and the name of the column to the one we want\n",
    "\n",
    "gas_season.loc[['Fall','Winter','Spring','Summer']]\n",
    "gas_season.rename(columns = {'Price_pl':'Average price ($)'})"
   ]
  },
  {
   "cell_type": "markdown",
   "id": "33a5a7b5",
   "metadata": {},
   "source": [
    "# Q4.1"
   ]
  },
  {
   "cell_type": "code",
   "execution_count": 47,
   "id": "67256bb9",
   "metadata": {},
   "outputs": [],
   "source": [
    "# Import file TREB data.xls as a pandas DataFrame\n",
    "sales = pd.read_excel(\"TREB_Data.xlsx\")"
   ]
  },
  {
   "cell_type": "markdown",
   "id": "a0be6208",
   "metadata": {},
   "source": [
    "sales = pd.read_excel(\"TREB_Data.xlsx\")\n",
    "sales"
   ]
  },
  {
   "cell_type": "code",
   "execution_count": 48,
   "id": "66ba1970",
   "metadata": {},
   "outputs": [],
   "source": [
    "# split the MonthYear column to Month and Year\n",
    "sales[[\"Month\",\"Year\"]] = sales[\"MonthYear\"].str.split(\"-\", expand = True)\n",
    "sales_update = sales.drop(['AveragePrice','MonthYear'], axis=1)"
   ]
  },
  {
   "cell_type": "code",
   "execution_count": 49,
   "id": "5e002769",
   "metadata": {},
   "outputs": [
    {
     "data": {
      "text/html": [
       "<div>\n",
       "<style scoped>\n",
       "    .dataframe tbody tr th:only-of-type {\n",
       "        vertical-align: middle;\n",
       "    }\n",
       "\n",
       "    .dataframe tbody tr th {\n",
       "        vertical-align: top;\n",
       "    }\n",
       "\n",
       "    .dataframe thead tr th {\n",
       "        text-align: left;\n",
       "    }\n",
       "\n",
       "    .dataframe thead tr:last-of-type th {\n",
       "        text-align: right;\n",
       "    }\n",
       "</style>\n",
       "<table border=\"1\" class=\"dataframe\">\n",
       "  <thead>\n",
       "    <tr>\n",
       "      <th></th>\n",
       "      <th colspan=\"5\" halign=\"left\">Sales</th>\n",
       "    </tr>\n",
       "    <tr>\n",
       "      <th>Year</th>\n",
       "      <th>2013</th>\n",
       "      <th>2014</th>\n",
       "      <th>2015</th>\n",
       "      <th>2016</th>\n",
       "      <th>2017</th>\n",
       "    </tr>\n",
       "    <tr>\n",
       "      <th>Month</th>\n",
       "      <th></th>\n",
       "      <th></th>\n",
       "      <th></th>\n",
       "      <th></th>\n",
       "      <th></th>\n",
       "    </tr>\n",
       "  </thead>\n",
       "  <tbody>\n",
       "    <tr>\n",
       "      <th>January</th>\n",
       "      <td>4230</td>\n",
       "      <td>4103</td>\n",
       "      <td>4318</td>\n",
       "      <td>4640</td>\n",
       "      <td>5155</td>\n",
       "    </tr>\n",
       "    <tr>\n",
       "      <th>February</th>\n",
       "      <td>5615</td>\n",
       "      <td>5696</td>\n",
       "      <td>6294</td>\n",
       "      <td>7582</td>\n",
       "      <td>7955</td>\n",
       "    </tr>\n",
       "    <tr>\n",
       "      <th>March</th>\n",
       "      <td>7536</td>\n",
       "      <td>8052</td>\n",
       "      <td>8886</td>\n",
       "      <td>10260</td>\n",
       "      <td>11959</td>\n",
       "    </tr>\n",
       "    <tr>\n",
       "      <th>April</th>\n",
       "      <td>9537</td>\n",
       "      <td>9660</td>\n",
       "      <td>11254</td>\n",
       "      <td>12016</td>\n",
       "      <td>11470</td>\n",
       "    </tr>\n",
       "    <tr>\n",
       "      <th>May</th>\n",
       "      <td>9945</td>\n",
       "      <td>11013</td>\n",
       "      <td>11640</td>\n",
       "      <td>12789</td>\n",
       "      <td>10068</td>\n",
       "    </tr>\n",
       "    <tr>\n",
       "      <th>June</th>\n",
       "      <td>8821</td>\n",
       "      <td>10132</td>\n",
       "      <td>11905</td>\n",
       "      <td>12725</td>\n",
       "      <td>7896</td>\n",
       "    </tr>\n",
       "    <tr>\n",
       "      <th>July</th>\n",
       "      <td>8367</td>\n",
       "      <td>9152</td>\n",
       "      <td>9813</td>\n",
       "      <td>9929</td>\n",
       "      <td>5871</td>\n",
       "    </tr>\n",
       "    <tr>\n",
       "      <th>August</th>\n",
       "      <td>7390</td>\n",
       "      <td>7568</td>\n",
       "      <td>7943</td>\n",
       "      <td>9748</td>\n",
       "      <td>6310</td>\n",
       "    </tr>\n",
       "    <tr>\n",
       "      <th>September</th>\n",
       "      <td>7256</td>\n",
       "      <td>8001</td>\n",
       "      <td>8147</td>\n",
       "      <td>9828</td>\n",
       "      <td>6340</td>\n",
       "    </tr>\n",
       "    <tr>\n",
       "      <th>October</th>\n",
       "      <td>7940</td>\n",
       "      <td>8512</td>\n",
       "      <td>8759</td>\n",
       "      <td>9715</td>\n",
       "      <td>7087</td>\n",
       "    </tr>\n",
       "    <tr>\n",
       "      <th>November</th>\n",
       "      <td>6354</td>\n",
       "      <td>6475</td>\n",
       "      <td>7337</td>\n",
       "      <td>8503</td>\n",
       "      <td>7353</td>\n",
       "    </tr>\n",
       "    <tr>\n",
       "      <th>December</th>\n",
       "      <td>4058</td>\n",
       "      <td>4418</td>\n",
       "      <td>4917</td>\n",
       "      <td>5305</td>\n",
       "      <td>4930</td>\n",
       "    </tr>\n",
       "  </tbody>\n",
       "</table>\n",
       "</div>"
      ],
      "text/plain": [
       "          Sales                            \n",
       "Year       2013   2014   2015   2016   2017\n",
       "Month                                      \n",
       "January    4230   4103   4318   4640   5155\n",
       "February   5615   5696   6294   7582   7955\n",
       "March      7536   8052   8886  10260  11959\n",
       "April      9537   9660  11254  12016  11470\n",
       "May        9945  11013  11640  12789  10068\n",
       "June       8821  10132  11905  12725   7896\n",
       "July       8367   9152   9813   9929   5871\n",
       "August     7390   7568   7943   9748   6310\n",
       "September  7256   8001   8147   9828   6340\n",
       "October    7940   8512   8759   9715   7087\n",
       "November   6354   6475   7337   8503   7353\n",
       "December   4058   4418   4917   5305   4930"
      ]
     },
     "execution_count": 49,
     "metadata": {},
     "output_type": "execute_result"
    }
   ],
   "source": [
    "# pivot and generate the table with value: Sales\n",
    "sales_update = pd.pivot_table(sales, values=['Sales'],columns=['Year'],index=['Month'],)\n",
    "new_order = ['January', 'February', 'March', 'April', 'May', 'June', 'July', 'August', 'September',\n",
    "             'October', 'November', 'December']\n",
    "sales_update= sales_update.reindex(new_order, axis=0)\n",
    "sales_update"
   ]
  },
  {
   "cell_type": "markdown",
   "id": "81d0b8ac",
   "metadata": {},
   "source": [
    "# Q4.2"
   ]
  },
  {
   "cell_type": "code",
   "execution_count": 50,
   "id": "41c42b8a",
   "metadata": {},
   "outputs": [
    {
     "data": {
      "text/plain": [
       "<matplotlib.legend.Legend at 0x7fed71556460>"
      ]
     },
     "execution_count": 50,
     "metadata": {},
     "output_type": "execute_result"
    },
    {
     "data": {
      "image/png": "[encoded data removed]",
      "text/plain": [
       "<Figure size 1080x432 with 1 Axes>"
      ]
     },
     "metadata": {
      "needs_background": "light"
     },
     "output_type": "display_data"
    }
   ],
   "source": [
    "plt.rcParams['xtick.labelsize'] = 13\n",
    "plt.rcParams['ytick.labelsize'] = 13\n",
    "\n",
    "fig = plt.figure(figsize=(15,6))\n",
    "plt.plot(sales_update.index, sales_update.values, '-o')\n",
    "plt.xlabel('month', fontsize=16)\n",
    "plt.ylabel('sales', fontsize=16)\n",
    "plt.legend(sales_update.columns, loc='best', ncol=3)"
   ]
  },
  {
   "cell_type": "markdown",
   "id": "0bd45c70",
   "metadata": {},
   "source": [
    "# Q4.3"
   ]
  },
  {
   "cell_type": "code",
   "execution_count": 51,
   "id": "8c7f88dd",
   "metadata": {},
   "outputs": [
    {
     "data": {
      "text/html": [
       "<div>\n",
       "<style scoped>\n",
       "    .dataframe tbody tr th:only-of-type {\n",
       "        vertical-align: middle;\n",
       "    }\n",
       "\n",
       "    .dataframe tbody tr th {\n",
       "        vertical-align: top;\n",
       "    }\n",
       "\n",
       "    .dataframe thead th {\n",
       "        text-align: right;\n",
       "    }\n",
       "</style>\n",
       "<table border=\"1\" class=\"dataframe\">\n",
       "  <thead>\n",
       "    <tr style=\"text-align: right;\">\n",
       "      <th></th>\n",
       "      <th>Sales</th>\n",
       "    </tr>\n",
       "    <tr>\n",
       "      <th>Year</th>\n",
       "      <th></th>\n",
       "    </tr>\n",
       "  </thead>\n",
       "  <tbody>\n",
       "    <tr>\n",
       "      <th>2013</th>\n",
       "      <td>87049</td>\n",
       "    </tr>\n",
       "    <tr>\n",
       "      <th>2014</th>\n",
       "      <td>92782</td>\n",
       "    </tr>\n",
       "    <tr>\n",
       "      <th>2015</th>\n",
       "      <td>101213</td>\n",
       "    </tr>\n",
       "    <tr>\n",
       "      <th>2016</th>\n",
       "      <td>113040</td>\n",
       "    </tr>\n",
       "    <tr>\n",
       "      <th>2017</th>\n",
       "      <td>92394</td>\n",
       "    </tr>\n",
       "  </tbody>\n",
       "</table>\n",
       "</div>"
      ],
      "text/plain": [
       "       Sales\n",
       "Year        \n",
       "2013   87049\n",
       "2014   92782\n",
       "2015  101213\n",
       "2016  113040\n",
       "2017   92394"
      ]
     },
     "execution_count": 51,
     "metadata": {},
     "output_type": "execute_result"
    }
   ],
   "source": [
    "# group by year the table, pre-pivoting\n",
    "sales_by_year= sales.groupby('Year').sum().drop('AveragePrice', axis=1)\n",
    "sales_by_year"
   ]
  },
  {
   "cell_type": "code",
   "execution_count": 52,
   "id": "cbafd004",
   "metadata": {},
   "outputs": [
    {
     "data": {
      "text/plain": [
       "Text(0, 0.5, 'sales')"
      ]
     },
     "execution_count": 52,
     "metadata": {},
     "output_type": "execute_result"
    },
    {
     "data": {
      "image/png": "[encoded data removed]",
      "text/plain": [
       "<Figure size 432x288 with 1 Axes>"
      ]
     },
     "metadata": {
      "needs_background": "light"
     },
     "output_type": "display_data"
    }
   ],
   "source": [
    "# bar chart, pre-pivoting\n",
    "sales_by_year.plot.bar()\n",
    "plt.xlabel('year', fontsize=16)\n",
    "plt.ylabel('sales', fontsize=16)"
   ]
  },
  {
   "cell_type": "code",
   "execution_count": 53,
   "id": "43ddca70",
   "metadata": {
    "scrolled": true
   },
   "outputs": [
    {
     "data": {
      "text/plain": [
       "       Year\n",
       "Sales  2013     87049\n",
       "       2014     92782\n",
       "       2015    101213\n",
       "       2016    113040\n",
       "       2017     92394\n",
       "dtype: int64"
      ]
     },
     "execution_count": 53,
     "metadata": {},
     "output_type": "execute_result"
    }
   ],
   "source": [
    "# summing up the five columns, post-pivoting\n",
    "sales_update.sum()"
   ]
  },
  {
   "cell_type": "code",
   "execution_count": 54,
   "id": "aa9fa735",
   "metadata": {},
   "outputs": [
    {
     "data": {
      "text/plain": [
       "Text(0, 0.5, 'sales')"
      ]
     },
     "execution_count": 54,
     "metadata": {},
     "output_type": "execute_result"
    },
    {
     "data": {
      "image/png": "[encoded data removed]",
      "text/plain": [
       "<Figure size 432x288 with 1 Axes>"
      ]
     },
     "metadata": {
      "needs_background": "light"
     },
     "output_type": "display_data"
    }
   ],
   "source": [
    "# bar chart, post-pivoting\n",
    "sales_update.sum().plot.bar(xlabel='Year')\n",
    "plt.xlabel('year', fontsize=16)\n",
    "plt.ylabel('sales', fontsize=16)"
   ]
  },
  {
   "cell_type": "code",
   "execution_count": 55,
   "id": "45cc0218",
   "metadata": {},
   "outputs": [],
   "source": [
    "# Two ways but with the same answer & chart"
   ]
  },
  {
   "cell_type": "markdown",
   "id": "dae9d778",
   "metadata": {},
   "source": []
  },
  {
   "cell_type": "code",
   "execution_count": null,
   "id": "b30d3b17",
   "metadata": {},
   "outputs": [],
   "source": []
  },
  {
   "cell_type": "code",
   "execution_count": null,
   "id": "8fd27b12",
   "metadata": {},
   "outputs": [],
   "source": []
  },
  {
   "cell_type": "code",
   "execution_count": null,
   "id": "32988a5d",
   "metadata": {},
   "outputs": [],
   "source": []
  },
  {
   "cell_type": "code",
   "execution_count": null,
   "id": "b08c7808",
   "metadata": {},
   "outputs": [],
   "source": []
  }
 ],
 "metadata": {
  "kernelspec": {
   "display_name": "Python 3 (ipykernel)",
   "language": "python",
   "name": "python3"
  },
  "language_info": {
   "codemirror_mode": {
    "name": "ipython",
    "version": 3
   },
   "file_extension": ".py",
   "mimetype": "text/x-python",
   "name": "python",
   "nbconvert_exporter": "python",
   "pygments_lexer": "ipython3",
   "version": "3.9.12"
  }
 },
 "nbformat": 4,
 "nbformat_minor": 5
}
